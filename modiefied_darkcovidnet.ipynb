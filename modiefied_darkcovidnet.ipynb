{
  "nbformat": 4,
  "nbformat_minor": 0,
  "metadata": {
    "colab": {
      "name": "modiefied darkcovidnet",
      "provenance": [],
      "authorship_tag": "ABX9TyNnr0s61G0m+PuQhOZH7hIB",
      "include_colab_link": true
    },
    "kernelspec": {
      "name": "python3",
      "display_name": "Python 3"
    }
  },
  "cells": [
    {
      "cell_type": "markdown",
      "metadata": {
        "id": "view-in-github",
        "colab_type": "text"
      },
      "source": [
        "<a href=\"https://colab.research.google.com/github/sawank930/COVID-19/blob/master/modiefied_darkcovidnet.ipynb\" target=\"_parent\"><img src=\"https://colab.research.google.com/assets/colab-badge.svg\" alt=\"Open In Colab\"/></a>"
      ]
    },
    {
      "cell_type": "code",
      "metadata": {
        "colab": {
          "base_uri": "https://localhost:8080/"
        },
        "id": "jhJvMrmpqvNy",
        "outputId": "3f065747-9ae5-40b1-c384-a33a0ce3dab3"
      },
      "source": [
        "!wget https://md-datasets-cache-zipfiles-prod.s3.eu-west-1.amazonaws.com/8h65ywd2jr-3.zip"
      ],
      "execution_count": null,
      "outputs": [
        {
          "output_type": "stream",
          "text": [
            "--2020-11-27 16:08:13--  https://md-datasets-cache-zipfiles-prod.s3.eu-west-1.amazonaws.com/8h65ywd2jr-3.zip\n",
            "Resolving md-datasets-cache-zipfiles-prod.s3.eu-west-1.amazonaws.com (md-datasets-cache-zipfiles-prod.s3.eu-west-1.amazonaws.com)... 52.218.61.104\n",
            "Connecting to md-datasets-cache-zipfiles-prod.s3.eu-west-1.amazonaws.com (md-datasets-cache-zipfiles-prod.s3.eu-west-1.amazonaws.com)|52.218.61.104|:443... connected.\n",
            "HTTP request sent, awaiting response... 200 OK\n",
            "Length: 3997547036 (3.7G) [application/octet-stream]\n",
            "Saving to: ‘8h65ywd2jr-3.zip’\n",
            "\n",
            "8h65ywd2jr-3.zip    100%[===================>]   3.72G  21.9MB/s    in 2m 59s  \n",
            "\n",
            "2020-11-27 16:11:12 (21.3 MB/s) - ‘8h65ywd2jr-3.zip’ saved [3997547036/3997547036]\n",
            "\n"
          ],
          "name": "stdout"
        }
      ]
    },
    {
      "cell_type": "code",
      "metadata": {
        "colab": {
          "base_uri": "https://localhost:8080/"
        },
        "id": "IXyfR7I-q3tM",
        "outputId": "09b3166e-417d-48ae-c0ab-7100e9f19eed"
      },
      "source": [
        "!unzip 8h65ywd2jr-3.zip"
      ],
      "execution_count": null,
      "outputs": [
        {
          "output_type": "stream",
          "text": [
            "Archive:  8h65ywd2jr-3.zip\n",
            "  inflating: COVID-19 Dataset.zip    \n"
          ],
          "name": "stdout"
        }
      ]
    },
    {
      "cell_type": "code",
      "metadata": {
        "id": "WEorKYomta5A",
        "colab": {
          "base_uri": "https://localhost:8080/"
        },
        "outputId": "e1e7df6d-87dd-49cf-ff72-dc1ef2e7a2e2"
      },
      "source": [
        "# importing required modules \n",
        "from zipfile import ZipFile \n",
        "\n",
        "# specifying the zip file name \n",
        "file_name = '/content/COVID-19 Dataset.zip'\n",
        "\n",
        "# opening the zip file in READ mode \n",
        "with ZipFile(file_name, 'r') as zip: \n",
        "\t# printing all the contents of the zip file \n",
        "\tzip.printdir() \n",
        "\n",
        "\t# extracting all the files \n",
        "\tprint('Extracting all the files now...') \n",
        "\tzip.extractall() \n",
        "\tprint('Done!') \n"
      ],
      "execution_count": null,
      "outputs": [
        {
          "output_type": "stream",
          "text": [
            "Done!\n"
          ],
          "name": "stdout"
        }
      ]
    },
    {
      "cell_type": "code",
      "metadata": {
        "id": "Sti78NGRrqOw"
      },
      "source": [
        "import numpy as np\n",
        "\n",
        "import cv2\n",
        "from os import listdir\n",
        "from sklearn.preprocessing import LabelBinarizer\n",
        "from keras.models import Sequential\n",
        "from keras.layers.normalization import BatchNormalization\n",
        "from keras.layers.convolutional import Conv2D\n",
        "from keras.layers.convolutional import MaxPooling2D\n",
        "from keras.layers.core import Activation, Flatten, Dropout, Dense\n",
        "from keras import backend as K\n",
        "from keras.preprocessing.image import ImageDataGenerator\n",
        "from keras.optimizers import Adam\n",
        "from keras.preprocessing import image\n",
        "from keras.preprocessing.image import img_to_array\n",
        "from sklearn.model_selection import train_test_split\n",
        "import matplotlib.pyplot as plt"
      ],
      "execution_count": null,
      "outputs": []
    },
    {
      "cell_type": "code",
      "metadata": {
        "id": "fwyBxMqGsTHX"
      },
      "source": [
        "directory_root = '/content/COVID-19 Dataset/X-ray'\n",
        "width=256\n",
        "height=256\n",
        "depth=3\n",
        "EPOCHS = 25\n",
        "INIT_LR = 1e-3\n",
        "BS = 32\n",
        "default_image_size = tuple((256, 256))\n",
        "image_size = 0\n",
        "\n",
        "def convert_image_to_array(image_dir):\n",
        "    try:\n",
        "        image = cv2.imread(image_dir)\n",
        "        if image is not None :\n",
        "            image = cv2.resize(image, default_image_size)   \n",
        "            return img_to_array(image)\n",
        "        else :\n",
        "            return np.array([])\n",
        "    except Exception as e:\n",
        "        print(f\"Error : {e}\")\n",
        "        return None"
      ],
      "execution_count": null,
      "outputs": []
    },
    {
      "cell_type": "code",
      "metadata": {
        "colab": {
          "base_uri": "https://localhost:8080/"
        },
        "id": "wtWSJB7Jszv8",
        "outputId": "b1cc66ff-39b8-4a4b-ec71-2aa1a7b187d3"
      },
      "source": [
        "image_list, label_list = [], [] ;\n",
        "covid_count = 0;\n",
        "try:\n",
        "    print(\" Loading images ...\")\n",
        "    root_dir = listdir(directory_root)\n",
        "\n",
        "    \n",
        "    \n",
        "    for disease_folder in root_dir:\n",
        "        print(f\"Processing {disease_folder} containing\")       \n",
        "        disease_image_list = listdir(f\"{directory_root}/{disease_folder}/\")\n",
        "        print (len(disease_image_list) ,'images');        \n",
        "            \n",
        "\n",
        "        for image in disease_image_list[:2000]:\n",
        "            image_directory = f\"{directory_root}/{disease_folder}/{image}\"\n",
        "            if image_directory.endswith(\".png\") == True or image_directory.endswith(\".jpg\") == True:\n",
        "                image_list.append(convert_image_to_array(image_directory))\n",
        "                label_list.append(disease_folder)\n",
        "                if(disease_folder == 'COVID'):\n",
        "                  covid_count = covid_count +1;\n",
        "      \n",
        "except Exception as e:\n",
        "    print(f\"Error : {e}\")\n"
      ],
      "execution_count": null,
      "outputs": [
        {
          "output_type": "stream",
          "text": [
            " Loading images ...\n",
            "Processing COVID containing\n",
            "4044 images\n",
            "Processing Non-COVID containing\n",
            "5500 images\n"
          ],
          "name": "stdout"
        }
      ]
    },
    {
      "cell_type": "code",
      "metadata": {
        "colab": {
          "base_uri": "https://localhost:8080/"
        },
        "id": "2X1AksbFkeWm",
        "outputId": "6b701773-15bb-4be9-8632-1e2ce1c430fc"
      },
      "source": [
        "print (covid_count);"
      ],
      "execution_count": null,
      "outputs": [
        {
          "output_type": "stream",
          "text": [
            "1139\n"
          ],
          "name": "stdout"
        }
      ]
    },
    {
      "cell_type": "code",
      "metadata": {
        "colab": {
          "base_uri": "https://localhost:8080/"
        },
        "id": "upEwzYq4tE4g",
        "outputId": "1b6d689e-5a51-4065-e9ff-6f27b452c34b"
      },
      "source": [
        "image_size = len(image_list)\n",
        "print(image_size)"
      ],
      "execution_count": null,
      "outputs": [
        {
          "output_type": "stream",
          "text": [
            "2139\n"
          ],
          "name": "stdout"
        }
      ]
    },
    {
      "cell_type": "code",
      "metadata": {
        "colab": {
          "base_uri": "https://localhost:8080/"
        },
        "id": "h2C-3pHxvK-G",
        "outputId": "cb2952d3-d087-4e19-e614-5e509d8b939f"
      },
      "source": [
        "label_binarizer = LabelBinarizer()\n",
        "image_labels = label_binarizer.fit_transform(label_list)\n",
        "\n",
        "n_classes = len(label_binarizer.classes_)\n",
        "print(label_binarizer.classes_)"
      ],
      "execution_count": null,
      "outputs": [
        {
          "output_type": "stream",
          "text": [
            "['COVID' 'Non-COVID']\n"
          ],
          "name": "stdout"
        }
      ]
    },
    {
      "cell_type": "code",
      "metadata": {
        "id": "HU3hjv6YvM74"
      },
      "source": [
        "np_image_list = np.array(image_list, dtype=np.float16) / 225.0\n",
        "#np_image_list"
      ],
      "execution_count": null,
      "outputs": []
    },
    {
      "cell_type": "code",
      "metadata": {
        "id": "th8BQrRPvP-X"
      },
      "source": [
        "x_train, x_test, y_train, y_test = train_test_split(np_image_list, image_labels, test_size=0.2, random_state = 42) "
      ],
      "execution_count": null,
      "outputs": []
    },
    {
      "cell_type": "code",
      "metadata": {
        "id": "YqmGiKdGvVA5"
      },
      "source": [
        "aug = ImageDataGenerator(\n",
        "    rotation_range=25, width_shift_range=0.1,\n",
        "    height_shift_range=0.1, shear_range=0.2, \n",
        "    zoom_range=0.2,horizontal_flip=True, \n",
        "    fill_mode=\"nearest\")"
      ],
      "execution_count": null,
      "outputs": []
    },
    {
      "cell_type": "code",
      "metadata": {
        "id": "f0uPJJjz0eg1"
      },
      "source": [
        ""
      ],
      "execution_count": null,
      "outputs": []
    },
    {
      "cell_type": "code",
      "metadata": {
        "id": "QgcOhn1Q0mNL"
      },
      "source": [
        ""
      ],
      "execution_count": null,
      "outputs": []
    },
    {
      "cell_type": "code",
      "metadata": {
        "id": "lWNDKMp2wJfH"
      },
      "source": [
        "model = Sequential()\n",
        "inputShape = (height, width, depth)\n",
        "chanDim = -1\n",
        "if K.image_data_format() == \"channels_first\":\n",
        "    inputShape = (depth, height, width)\n",
        "    chanDim = 1\n",
        "\n",
        "\n",
        "\n",
        "model.add(Conv2D(8, (3, 3), padding=\"same\",input_shape=inputShape, activation = 'relu'))\n",
        "model.add(BatchNormalization())\n",
        "model.add(MaxPooling2D(pool_size=(2, 2)))\n",
        "\n",
        "model.add(Conv2D(16, (3, 3), padding=\"same\", activation = 'relu'))\n",
        "model.add(BatchNormalization())\n",
        "model.add(MaxPooling2D(pool_size=(2, 2)))\n",
        "model.add(Conv2D(32, (3, 3), padding=\"same\", activation = 'relu'))\n",
        "model.add(BatchNormalization())\n",
        "model.add(MaxPooling2D(pool_size=(2, 2)))\n",
        "model.add(Conv2D(64, (3, 3), padding=\"same\", activation = 'relu'))\n",
        "model.add(BatchNormalization())\n",
        "model.add(MaxPooling2D(pool_size=(2, 2)))\n",
        "model.add(Conv2D(128, (3, 3), padding=\"same\", activation = 'relu'))\n",
        "model.add(BatchNormalization())\n",
        "model.add(MaxPooling2D(pool_size=(2, 2)))\n",
        "model.add(Conv2D(256, (3, 3), padding=\"same\", activation = 'relu'))\n",
        "model.add(BatchNormalization())\n",
        "model.add(MaxPooling2D(pool_size=(2, 2)))\n",
        "model.add(Flatten())\n",
        "model.add(Dense(activation=\"relu\", units=1024))\n",
        "model.add(Dense(activation=\"sigmoid\", units=1))"
      ],
      "execution_count": null,
      "outputs": []
    },
    {
      "cell_type": "code",
      "metadata": {
        "id": "sM4G_PMwxta3"
      },
      "source": [
        "\n",
        "opt = Adam(lr=INIT_LR, decay=INIT_LR / EPOCHS)\n",
        "model.compile(loss=\"binary_crossentropy\", optimizer=opt,metrics=[\"accuracy\"])\n"
      ],
      "execution_count": null,
      "outputs": []
    },
    {
      "cell_type": "code",
      "metadata": {
        "colab": {
          "base_uri": "https://localhost:8080/"
        },
        "id": "uFOaF8gixudn",
        "outputId": "9310fad4-68c9-4d30-ee86-971d702adfb8"
      },
      "source": [
        "\n",
        "history = model.fit(\n",
        "    aug.flow(x_train, y_train, batch_size=BS),\n",
        "    validation_data=(x_test, y_test),\n",
        "    steps_per_epoch=len(x_train) // BS,\n",
        "    epochs=25, verbose=1\n",
        "    )"
      ],
      "execution_count": null,
      "outputs": [
        {
          "output_type": "stream",
          "text": [
            "Epoch 1/25\n",
            "53/53 [==============================] - 118s 2s/step - loss: 0.7623 - accuracy: 0.7373 - val_loss: 0.9633 - val_accuracy: 0.5117\n",
            "Epoch 2/25\n",
            "53/53 [==============================] - 117s 2s/step - loss: 0.3264 - accuracy: 0.8600 - val_loss: 4.0769 - val_accuracy: 0.5117\n",
            "Epoch 3/25\n",
            "53/53 [==============================] - 118s 2s/step - loss: 0.2503 - accuracy: 0.8922 - val_loss: 6.6126 - val_accuracy: 0.5117\n",
            "Epoch 4/25\n",
            "53/53 [==============================] - 117s 2s/step - loss: 0.2572 - accuracy: 0.8970 - val_loss: 5.6938 - val_accuracy: 0.5117\n",
            "Epoch 5/25\n",
            "53/53 [==============================] - 118s 2s/step - loss: 0.2345 - accuracy: 0.9113 - val_loss: 2.2876 - val_accuracy: 0.5117\n",
            "Epoch 6/25\n",
            "53/53 [==============================] - 118s 2s/step - loss: 0.2067 - accuracy: 0.9107 - val_loss: 4.1201 - val_accuracy: 0.5117\n",
            "Epoch 7/25\n",
            "53/53 [==============================] - 118s 2s/step - loss: 0.1835 - accuracy: 0.9327 - val_loss: 3.0188 - val_accuracy: 0.5187\n",
            "Epoch 8/25\n",
            "53/53 [==============================] - 118s 2s/step - loss: 0.2009 - accuracy: 0.9220 - val_loss: 1.0077 - val_accuracy: 0.7150\n",
            "Epoch 9/25\n",
            "53/53 [==============================] - 118s 2s/step - loss: 0.1580 - accuracy: 0.9357 - val_loss: 0.7563 - val_accuracy: 0.8271\n",
            "Epoch 10/25\n",
            "53/53 [==============================] - 118s 2s/step - loss: 0.1657 - accuracy: 0.9363 - val_loss: 1.2763 - val_accuracy: 0.6822\n",
            "Epoch 11/25\n",
            "53/53 [==============================] - 119s 2s/step - loss: 0.1640 - accuracy: 0.9404 - val_loss: 0.2684 - val_accuracy: 0.9089\n",
            "Epoch 12/25\n",
            "53/53 [==============================] - 118s 2s/step - loss: 0.1658 - accuracy: 0.9309 - val_loss: 0.2197 - val_accuracy: 0.9369\n",
            "Epoch 13/25\n",
            "53/53 [==============================] - 118s 2s/step - loss: 0.1322 - accuracy: 0.9547 - val_loss: 0.7680 - val_accuracy: 0.8037\n",
            "Epoch 14/25\n",
            "53/53 [==============================] - 119s 2s/step - loss: 0.1548 - accuracy: 0.9387 - val_loss: 0.1928 - val_accuracy: 0.9416\n",
            "Epoch 15/25\n",
            "53/53 [==============================] - 119s 2s/step - loss: 0.1370 - accuracy: 0.9500 - val_loss: 0.6296 - val_accuracy: 0.8341\n",
            "Epoch 16/25\n",
            "53/53 [==============================] - 118s 2s/step - loss: 0.1353 - accuracy: 0.9458 - val_loss: 0.3717 - val_accuracy: 0.8551\n",
            "Epoch 17/25\n",
            "53/53 [==============================] - 118s 2s/step - loss: 0.1467 - accuracy: 0.9404 - val_loss: 0.2614 - val_accuracy: 0.9299\n",
            "Epoch 18/25\n",
            "53/53 [==============================] - 119s 2s/step - loss: 0.1512 - accuracy: 0.9452 - val_loss: 2.5215 - val_accuracy: 0.5164\n",
            "Epoch 19/25\n",
            "53/53 [==============================] - 119s 2s/step - loss: 0.1069 - accuracy: 0.9559 - val_loss: 1.1547 - val_accuracy: 0.6425\n",
            "Epoch 20/25\n",
            "53/53 [==============================] - 119s 2s/step - loss: 0.1159 - accuracy: 0.9595 - val_loss: 0.8620 - val_accuracy: 0.7173\n",
            "Epoch 21/25\n",
            "53/53 [==============================] - 120s 2s/step - loss: 0.1265 - accuracy: 0.9559 - val_loss: 0.6172 - val_accuracy: 0.8575\n",
            "Epoch 22/25\n",
            "53/53 [==============================] - 119s 2s/step - loss: 0.1396 - accuracy: 0.9458 - val_loss: 0.3554 - val_accuracy: 0.8925\n",
            "Epoch 23/25\n",
            "53/53 [==============================] - 119s 2s/step - loss: 0.1262 - accuracy: 0.9524 - val_loss: 0.5094 - val_accuracy: 0.8528\n",
            "Epoch 24/25\n",
            "53/53 [==============================] - 120s 2s/step - loss: 0.1192 - accuracy: 0.9559 - val_loss: 0.4265 - val_accuracy: 0.9112\n",
            "Epoch 25/25\n",
            "53/53 [==============================] - 119s 2s/step - loss: 0.0895 - accuracy: 0.9661 - val_loss: 0.4826 - val_accuracy: 0.8668\n"
          ],
          "name": "stdout"
        }
      ]
    },
    {
      "cell_type": "code",
      "metadata": {
        "colab": {
          "base_uri": "https://localhost:8080/",
          "height": 545
        },
        "id": "Kic-UJY9xz-q",
        "outputId": "021772dd-bd1b-4fce-f0b8-6038333f84b6"
      },
      "source": [
        "\n",
        "acc = history.history['accuracy']\n",
        "val_acc = history.history['val_accuracy']\n",
        "loss = history.history['loss']\n",
        "val_loss = history.history['val_loss']\n",
        "epochs = range(1, len(acc) + 1)\n",
        "#Train and validation accuracy\n",
        "plt.plot(epochs, acc, 'b', label='Training accurarcy')\n",
        "plt.plot(epochs, val_acc, 'r', label='Validation accurarcy')\n",
        "plt.title('Training and Validation accurarcy')\n",
        "plt.legend()\n",
        "\n",
        "plt.figure()\n",
        "#Train and validation loss\n",
        "plt.plot(epochs, loss, 'b', label='Training loss')\n",
        "plt.plot(epochs, val_loss, 'r', label='Validation loss')\n",
        "plt.title('Training and Validation loss')\n",
        "plt.legend()\n",
        "plt.show()"
      ],
      "execution_count": null,
      "outputs": [
        {
          "output_type": "display_data",
          "data": {
            "image/png": "[encoded data removed]",
            "text/plain": [
              "<Figure size 432x288 with 1 Axes>"
            ]
          },
          "metadata": {
            "tags": [],
            "needs_background": "light"
          }
        },
        {
          "output_type": "display_data",
          "data": {
            "image/png": "[encoded data removed]",
            "text/plain": [
              "<Figure size 432x288 with 1 Axes>"
            ]
          },
          "metadata": {
            "tags": [],
            "needs_background": "light"
          }
        }
      ]
    },
    {
      "cell_type": "code",
      "metadata": {
        "id": "YhjlUgUfvacx",
        "colab": {
          "base_uri": "https://localhost:8080/"
        },
        "outputId": "7ca7b7e3-0f85-4a01-e111-8c3ff2634733"
      },
      "source": [
        "from keras.models import Model\n",
        "from keras.optimizers import Adam\n",
        "from keras.layers import GlobalAveragePooling2D\n",
        "from keras.layers import Dense\n",
        "from keras.applications.inception_v3 import InceptionV3\n",
        "from keras.utils.np_utils import to_categorical\n",
        "\n",
        "# Get the InceptionV3 model so we can do transfer learning\n",
        "base_inception = InceptionV3(weights='imagenet', include_top=False, \n",
        "                             input_shape=(128, 128, 3))\n",
        "                             \n",
        "# Add a global spatial average pooling layer\n",
        "out = base_inception.output\n",
        "out = GlobalAveragePooling2D()(out)\n",
        "out = Dense(512, activation='relu')(out)\n",
        "out = Dense(512, activation='relu')(out)\n",
        "predictions = Dense(n_classes, activation='softmax')(out)\n",
        "model = Model(inputs=base_inception.input, outputs=predictions)\n",
        "\n",
        "# only if we want to freeze layers\n",
        "for layer in base_inception.layers:\n",
        "    layer.trainable = False\n",
        "    \n",
        "# Compile \n",
        "opt = Adam(lr=INIT_LR, decay=INIT_LR / EPOCHS)\n",
        "model.compile(loss=\"binary_crossentropy\", optimizer=opt,metrics=[\"accuracy\"]) \n",
        "#model.summary()"
      ],
      "execution_count": null,
      "outputs": [
        {
          "output_type": "stream",
          "text": [
            "Downloading data from https://storage.googleapis.com/tensorflow/keras-applications/inception_v3/inception_v3_weights_tf_dim_ordering_tf_kernels_notop.h5\n",
            "87916544/87910968 [==============================] - 1s 0us/step\n"
          ],
          "name": "stdout"
        }
      ]
    },
    {
      "cell_type": "code",
      "metadata": {
        "id": "4XMfpk5cvdPM",
        "colab": {
          "base_uri": "https://localhost:8080/"
        },
        "outputId": "9c1ddc74-3331-4fe8-92cf-0b4f11fc445d"
      },
      "source": [
        "history = model.fit(\n",
        "    aug.flow(x_train, y_train, batch_size=BS),\n",
        "    validation_data=(x_test, y_test),\n",
        "    steps_per_epoch=len(x_train) // BS,\n",
        "    epochs=25, verbose=1\n",
        "    )"
      ],
      "execution_count": null,
      "outputs": [
        {
          "output_type": "stream",
          "text": [
            "Epoch 1/25\n",
            "53/53 [==============================] - ETA: 0s - loss: 0.7537 - accuracy: 0.5134WARNING:tensorflow:Model was constructed with shape (None, 128, 128, 3) for input Tensor(\"input_1:0\", shape=(None, 128, 128, 3), dtype=float32), but it was called on an input with incompatible shape (None, 256, 256, 3).\n",
            "53/53 [==============================] - 286s 5s/step - loss: 0.7537 - accuracy: 0.5134 - val_loss: 0.6936 - val_accuracy: 0.1145\n",
            "Epoch 2/25\n",
            "25/53 [=============>................] - ETA: 1:57 - loss: 0.6934 - accuracy: 0.4891"
          ],
          "name": "stdout"
        }
      ]
    },
    {
      "cell_type": "code",
      "metadata": {
        "id": "BQo9EHDIvjM-"
      },
      "source": [
        "def Res_Plot_Test_Save(name):\n",
        "    print(\"[INFO] Plotting model accuracy and Loss\")\n",
        "    acc = history.history['accuracy']\n",
        "    val_acc = history.history['val_accuracy']\n",
        "    loss = history.history['loss']\n",
        "    val_loss = history.history['val_loss']\n",
        "    epochs = range(1, len(acc) + 1)\n",
        "    #Train and validation accuracy\n",
        "    plt.plot(epochs, acc, 'b', label='Training accurarcy')\n",
        "    plt.plot(epochs, val_acc, 'r', label='Validation accurarcy')\n",
        "    plt.title('Training and Validation accurarcy')\n",
        "    plt.legend()\n",
        "\n",
        "    plt.figure()\n",
        "    #Train and validation loss\n",
        "    plt.plot(epochs, loss, 'b', label='Training loss')\n",
        "    plt.plot(epochs, val_loss, 'r', label='Validation loss')\n",
        "    plt.title('Training and Validation loss')\n",
        "    plt.legend()\n",
        "    plt.show()\n",
        "    \n",
        "    print(\"[INFO] Calculating model accuracy\")\n",
        "    scores = model.evaluate(x_test, y_test)\n",
        "    print(f\"Test Accuracy: {scores[1]*100}\")\n",
        "    \n",
        "Res_Plot_Test_Save('Inception_ModelV3_(Imagenet_Weights).h5')"
      ],
      "execution_count": null,
      "outputs": []
    },
    {
      "cell_type": "code",
      "metadata": {
        "id": "e-WyLG3zvj-m"
      },
      "source": [
        "from keras.models import Model\n",
        "from keras import applications\n",
        "from keras.optimizers import Adam\n",
        "from keras.layers import GlobalAveragePooling2D\n",
        "from keras.layers import Dense\n",
        "from keras.applications.inception_v3 import InceptionV3\n",
        "from keras.utils.np_utils import to_categorical\n",
        "\n",
        "# Get the Resnet model so we can do transfer learning\n",
        "base_model = applications.resnet50.ResNet50(weights= None, include_top=False, input_shape= (128,128,3))\n",
        "                             \n",
        "# Add a global spatial average pooling layer\n",
        "out = base_model.output\n",
        "out = GlobalAveragePooling2D()(out)\n",
        "out = Dense(512, activation='relu')(out)\n",
        "out = Dense(512, activation='relu')(out)\n",
        "predictions = Dense(n_classes, activation='softmax')(out)\n",
        "model = Model(inputs=base_model.input, outputs=predictions)\n",
        "\n",
        "# only if we want to freeze layers\n",
        "for layer in base_inception.layers:\n",
        "    layer.trainable = False\n",
        "    \n",
        "# Compile \n",
        "opt = Adam(lr=INIT_LR, decay=INIT_LR / EPOCHS)\n",
        "model.compile(loss=\"binary_crossentropy\", optimizer=opt,metrics=[\"accuracy\"]) \n",
        "\n"
      ],
      "execution_count": null,
      "outputs": []
    },
    {
      "cell_type": "code",
      "metadata": {
        "id": "PK_sZ5fbvpM3"
      },
      "source": [
        "history = model.fit_generator(\n",
        "    aug.flow(x_train, y_train, batch_size=BS),\n",
        "    validation_data=(x_test, y_test),\n",
        "    steps_per_epoch=len(x_train) // BS,\n",
        "    epochs=EPOCHS, verbose=1\n",
        "    )"
      ],
      "execution_count": null,
      "outputs": []
    },
    {
      "cell_type": "code",
      "metadata": {
        "id": "TWeHWirjvtd7"
      },
      "source": [
        "Res_Plot_Test_Save('Resnet_With_Imagenet_Weingts.h5')"
      ],
      "execution_count": null,
      "outputs": []
    },
    {
      "cell_type": "code",
      "metadata": {
        "id": "foOvXQ97vwK7"
      },
      "source": [
        "from keras.applications import vgg16\n",
        "from keras.optimizers import Adam\n",
        "from keras.layers import GlobalAveragePooling2D\n",
        "from keras.layers import Dense\n",
        "from keras.applications.inception_v3 import InceptionV3\n",
        "from keras.utils.np_utils import to_categorical\n",
        "\n",
        "# Get the Resnet model so we can do transfer learning\n",
        "vgg = vgg16.VGG16(weights= None, include_top=False, input_shape= (128,128,3))\n",
        "                             \n",
        "# Add a global spatial average pooling layer\n",
        "out = base_model.output\n",
        "out = GlobalAveragePooling2D()(out)\n",
        "out = Dense(512, activation='relu')(out)\n",
        "out = Dense(512, activation='relu')(out)\n",
        "predictions = Dense(n_classes, activation='softmax')(out)\n",
        "model = Model(inputs=base_model.input, outputs=predictions)\n",
        "\n",
        "# only if we want to freeze layers\n",
        "for layer in base_inception.layers:\n",
        "    layer.trainable = False\n",
        "    \n",
        "# Compile \n",
        "opt = Adam(lr=INIT_LR, decay=INIT_LR / EPOCHS)\n",
        "model.compile(loss=\"binary_crossentropy\", optimizer=opt,metrics=[\"accuracy\"]) "
      ],
      "execution_count": null,
      "outputs": []
    },
    {
      "cell_type": "code",
      "metadata": {
        "id": "p_JHswksvw2q"
      },
      "source": [
        "history = model.fit_generator(\n",
        "    aug.flow(x_train, y_train, batch_size=BS),\n",
        "    validation_data=(x_test, y_test),\n",
        "    steps_per_epoch=len(x_train) // BS,\n",
        "    epochs=25, verbose=1\n",
        "    )"
      ],
      "execution_count": null,
      "outputs": []
    },
    {
      "cell_type": "code",
      "metadata": {
        "id": "vndvWsfYvzHu"
      },
      "source": [
        "Res_Plot_Test_Save('VGG16_With_Imagenet_Weingts.h5')"
      ],
      "execution_count": null,
      "outputs": []
    },
    {
      "cell_type": "code",
      "metadata": {
        "id": "P_96iu9wv19C"
      },
      "source": [
        ""
      ],
      "execution_count": null,
      "outputs": []
    }
  ]
}